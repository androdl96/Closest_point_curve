{
 "cells": [
  {
   "cell_type": "code",
   "execution_count": 19,
   "metadata": {},
   "outputs": [],
   "source": [
    "import geojson\n",
    "import numpy as np\n",
    "from mmap import MAP_ANONYMOUS\n",
    "import folium\n",
    "from shapely.geometry import LineString, Point\n",
    "from shapely.ops import transform\n",
    "import pyproj\n",
    "from math import ceil\n",
    "import random\n",
    "import matplotlib.pyplot as plt"
   ]
  },
  {
   "cell_type": "code",
   "execution_count": 4,
   "metadata": {},
   "outputs": [],
   "source": [
    "with open('lijnsecties-1.json', 'r') as f:\n",
    "    data = geojson.load(f)"
   ]
  },
  {
   "cell_type": "code",
   "execution_count": 5,
   "metadata": {},
   "outputs": [
    {
     "name": "stdout",
     "output_type": "stream",
     "text": [
      "360 908\n"
     ]
    }
   ],
   "source": [
    "trajectories_size=[len(np.array(data['features'][i]['geometry']['coordinates'])) for i in range(len(data['features']))]\n",
    "print(np.argmax(trajectories_size),np.max(trajectories_size))"
   ]
  },
  {
   "cell_type": "code",
   "execution_count": 39,
   "metadata": {},
   "outputs": [
    {
     "data": {
      "text/plain": [
       "<folium.vector_layers.PolyLine at 0x78b5240fd0f0>"
      ]
     },
     "execution_count": 39,
     "metadata": {},
     "output_type": "execute_result"
    }
   ],
   "source": [
    "line = np.array(data['features'][360]['geometry']['coordinates'])\n",
    "line[:,[0,1]]=line[:,[1,0]]\n",
    "map_center=line[400,:]\n",
    "mapa = folium.Map(location=map_center, zoom_start=13, width=1600/2, height=900/2)\n",
    "folium.PolyLine(locations=line, color='red', weight=3).add_to(mapa)"
   ]
  },
  {
   "cell_type": "code",
   "execution_count": 40,
   "metadata": {},
   "outputs": [
    {
     "name": "stdout",
     "output_type": "stream",
     "text": [
      "Datos guardados en 'line_BEL_360.txt'\n"
     ]
    }
   ],
   "source": [
    "np.savetxt('line_BEL_360.txt', line, delimiter=',', comments='',fmt='%.7f')\n",
    "print(\"Datos guardados en 'line_BEL_360.txt'\")"
   ]
  },
  {
   "cell_type": "code",
   "execution_count": 41,
   "metadata": {},
   "outputs": [
    {
     "name": "stdout",
     "output_type": "stream",
     "text": [
      "(np.float64(51.1002386), np.float64(3.3885940000000003))\n"
     ]
    },
    {
     "data": {
      "text/plain": [
       "<folium.map.Marker at 0x78b51d551750>"
      ]
     },
     "execution_count": 41,
     "metadata": {},
     "output_type": "execute_result"
    }
   ],
   "source": [
    "index_sample=random.randint(0,line.shape[0])\n",
    "err_x=0.05*(np.max(line[:,0])-np.min(line[:,0]))\n",
    "err_y=0.05*(np.max(line[:,1])-np.min(line[:,1]))\n",
    "new_point=(line[index_sample,0]+random.choice([1, -1])*err_x,line[index_sample,1]+random.choice([1, -1])*err_y)\n",
    "print(new_point)\n",
    "folium.Marker(location=new_point, popup=f\"GNSS output\").add_to(mapa)"
   ]
  },
  {
   "cell_type": "code",
   "execution_count": 42,
   "metadata": {},
   "outputs": [
    {
     "data": {
      "text/html": [
       "<div style=\"width:100%;\"><div style=\"position:relative;width:100%;height:0;padding-bottom:60%;\"><span style=\"color:#565656\">Make this Notebook Trusted to load map: File -> Trust Notebook</span><iframe srcdoc=\"&lt;!DOCTYPE html&gt;\n",
       "&lt;html&gt;\n",
       "&lt;head&gt;\n",
       "    \n",
       "    &lt;meta http-equiv=&quot;content-type&quot; content=&quot;text/html; charset=UTF-8&quot; /&gt;\n",
       "    \n",
       "        &lt;script&gt;\n",
       "            L_NO_TOUCH = false;\n",
       "            L_DISABLE_3D = false;\n",
       "        &lt;/script&gt;\n",
       "    \n",
       "    &lt;style&gt;html, body {width: 100%;height: 100%;margin: 0;padding: 0;}&lt;/style&gt;\n",
       "    &lt;style&gt;#map {position:absolute;top:0;bottom:0;right:0;left:0;}&lt;/style&gt;\n",
       "    &lt;script src=&quot;https://cdn.jsdelivr.net/npm/leaflet@1.9.3/dist/leaflet.js&quot;&gt;&lt;/script&gt;\n",
       "    &lt;script src=&quot;https://code.jquery.com/jquery-3.7.1.min.js&quot;&gt;&lt;/script&gt;\n",
       "    &lt;script src=&quot;https://cdn.jsdelivr.net/npm/bootstrap@5.2.2/dist/js/bootstrap.bundle.min.js&quot;&gt;&lt;/script&gt;\n",
       "    &lt;script src=&quot;https://cdnjs.cloudflare.com/ajax/libs/Leaflet.awesome-markers/2.0.2/leaflet.awesome-markers.js&quot;&gt;&lt;/script&gt;\n",
       "    &lt;link rel=&quot;stylesheet&quot; href=&quot;https://cdn.jsdelivr.net/npm/leaflet@1.9.3/dist/leaflet.css&quot;/&gt;\n",
       "    &lt;link rel=&quot;stylesheet&quot; href=&quot;https://cdn.jsdelivr.net/npm/bootstrap@5.2.2/dist/css/bootstrap.min.css&quot;/&gt;\n",
       "    &lt;link rel=&quot;stylesheet&quot; href=&quot;https://netdna.bootstrapcdn.com/bootstrap/3.0.0/css/bootstrap-glyphicons.css&quot;/&gt;\n",
       "    &lt;link rel=&quot;stylesheet&quot; href=&quot;https://cdn.jsdelivr.net/npm/@fortawesome/fontawesome-free@6.2.0/css/all.min.css&quot;/&gt;\n",
       "    &lt;link rel=&quot;stylesheet&quot; href=&quot;https://cdnjs.cloudflare.com/ajax/libs/Leaflet.awesome-markers/2.0.2/leaflet.awesome-markers.css&quot;/&gt;\n",
       "    &lt;link rel=&quot;stylesheet&quot; href=&quot;https://cdn.jsdelivr.net/gh/python-visualization/folium/folium/templates/leaflet.awesome.rotate.min.css&quot;/&gt;\n",
       "    \n",
       "            &lt;meta name=&quot;viewport&quot; content=&quot;width=device-width,\n",
       "                initial-scale=1.0, maximum-scale=1.0, user-scalable=no&quot; /&gt;\n",
       "            &lt;style&gt;\n",
       "                #map_c9180294a5ff6fb278539e1d0b2b7f97 {\n",
       "                    position: relative;\n",
       "                    width: 800.0px;\n",
       "                    height: 450.0px;\n",
       "                    left: 0.0%;\n",
       "                    top: 0.0%;\n",
       "                }\n",
       "                .leaflet-container { font-size: 1rem; }\n",
       "            &lt;/style&gt;\n",
       "        \n",
       "&lt;/head&gt;\n",
       "&lt;body&gt;\n",
       "    \n",
       "    \n",
       "            &lt;div class=&quot;folium-map&quot; id=&quot;map_c9180294a5ff6fb278539e1d0b2b7f97&quot; &gt;&lt;/div&gt;\n",
       "        \n",
       "&lt;/body&gt;\n",
       "&lt;script&gt;\n",
       "    \n",
       "    \n",
       "            var map_c9180294a5ff6fb278539e1d0b2b7f97 = L.map(\n",
       "                &quot;map_c9180294a5ff6fb278539e1d0b2b7f97&quot;,\n",
       "                {\n",
       "                    center: [51.112495, 3.373122],\n",
       "                    crs: L.CRS.EPSG3857,\n",
       "                    zoom: 13,\n",
       "                    zoomControl: true,\n",
       "                    preferCanvas: false,\n",
       "                }\n",
       "            );\n",
       "\n",
       "            \n",
       "\n",
       "        \n",
       "    \n",
       "            var tile_layer_25690a3c0067c53024f59f811af8e0fe = L.tileLayer(\n",
       "                &quot;https://tile.openstreetmap.org/{z}/{x}/{y}.png&quot;,\n",
       "                {&quot;attribution&quot;: &quot;\\u0026copy; \\u003ca href=\\&quot;https://www.openstreetmap.org/copyright\\&quot;\\u003eOpenStreetMap\\u003c/a\\u003e contributors&quot;, &quot;detectRetina&quot;: false, &quot;maxNativeZoom&quot;: 19, &quot;maxZoom&quot;: 19, &quot;minZoom&quot;: 0, &quot;noWrap&quot;: false, &quot;opacity&quot;: 1, &quot;subdomains&quot;: &quot;abc&quot;, &quot;tms&quot;: false}\n",
       "            );\n",
       "        \n",
       "    \n",
       "            tile_layer_25690a3c0067c53024f59f811af8e0fe.addTo(map_c9180294a5ff6fb278539e1d0b2b7f97);\n",
       "        \n",
       "    \n",
       "            var poly_line_30e36232e82ac1f9f404c65b9392ed1a = L.polyline(\n",
       "                [[51.085764, 3.477568], [51.085946, 3.4772], [51.086054, 3.476702], [51.086077, 3.476599], [51.086085, 3.47656], [51.086111, 3.476441], [51.086133, 3.476339], [51.08616, 3.476215], [51.086214, 3.475965], [51.086248, 3.47581], [51.086308, 3.475531], [51.086349, 3.475343], [51.086408, 3.475071], [51.086454, 3.474857], [51.086528, 3.474514], [51.086577, 3.47429], [51.086622, 3.474079], [51.086679, 3.473817], [51.086749, 3.473494], [51.086818, 3.473175], [51.086865, 3.47296], [51.086939, 3.47262], [51.087, 3.472338], [51.08701, 3.472291], [51.08702, 3.472244], [51.087026, 3.472216], [51.087081, 3.471963], [51.087123, 3.471769], [51.087148, 3.471653], [51.087199, 3.471417], [51.087248, 3.471193], [51.08731, 3.470903], [51.087404, 3.47047], [51.087466, 3.470184], [51.08748, 3.470122], [51.087533, 3.469875], [51.087609, 3.469524], [51.087623, 3.469461], [51.087661, 3.469285], [51.087706, 3.469078], [51.087769, 3.468786], [51.087814, 3.468578], [51.087856, 3.468381], [51.087899, 3.468185], [51.087953, 3.467933], [51.088008, 3.467682], [51.088042, 3.467522], [51.08807, 3.467394], [51.0881, 3.467256], [51.088106, 3.467229], [51.088135, 3.467096], [51.088166, 3.466951], [51.088193, 3.466825], [51.08828, 3.466425], [51.088324, 3.466222], [51.088383, 3.465945], [51.088451, 3.465634], [51.088517, 3.465332], [51.088627, 3.46482], [51.088721, 3.464386], [51.088793, 3.464056], [51.08888, 3.463655], [51.08898, 3.463189], [51.089071, 3.46277], [51.089111, 3.462585], [51.089163, 3.462348], [51.08927, 3.461851], [51.089378, 3.461351], [51.08949, 3.460835], [51.089514, 3.460726], [51.089566, 3.460483], [51.089603, 3.460314], [51.089624, 3.460213], [51.089716, 3.45979], [51.089859, 3.459132], [51.090066, 3.458172], [51.090165, 3.457715], [51.090246, 3.457344], [51.090257, 3.457291], [51.090262, 3.45727], [51.090266, 3.45725], [51.09029, 3.457141], [51.090295, 3.457115], [51.090296, 3.457111], [51.090386, 3.456696], [51.090504, 3.456149], [51.090606, 3.455678], [51.090654, 3.455455], [51.090689, 3.455292], [51.090714, 3.455179], [51.090768, 3.45493], [51.090803, 3.454765], [51.090881, 3.454406], [51.090917, 3.454241], [51.090918, 3.454233], [51.090962, 3.45403], [51.091021, 3.45376], [51.091079, 3.453492], [51.091125, 3.453275], [51.091156, 3.453133], [51.09119, 3.452978], [51.091229, 3.452795], [51.091268, 3.452616], [51.091319, 3.45238], [51.091364, 3.452172], [51.091409, 3.451963], [51.09143, 3.451867], [51.091443, 3.451803], [51.091463, 3.451714], [51.091523, 3.451435], [51.091573, 3.451206], [51.091588, 3.451134], [51.091607, 3.451049], [51.091658, 3.450812], [51.09172, 3.450526], [51.091747, 3.450399], [51.091786, 3.450219], [51.091821, 3.450058], [51.091858, 3.449887], [51.091896, 3.449708], [51.091925, 3.449574], [51.091961, 3.449412], [51.091996, 3.44925], [51.092032, 3.449083], [51.092066, 3.448925], [51.0921, 3.448765], [51.092132, 3.448618], [51.092158, 3.448501], [51.09219, 3.448352], [51.092224, 3.448196], [51.092257, 3.448042], [51.092258, 3.447855], [51.092322, 3.447739], [51.092352, 3.447601], [51.09238, 3.447471], [51.092408, 3.447344], [51.092439, 3.447201], [51.092471, 3.447053], [51.092501, 3.446913], [51.092505, 3.446896], [51.092521, 3.446822], [51.092533, 3.446763], [51.092537, 3.446745], [51.092565, 3.446619], [51.092594, 3.44648], [51.092625, 3.44634], [51.092645, 3.446246], [51.092667, 3.446146], [51.092689, 3.446041], [51.092712, 3.445937], [51.092739, 3.445812], [51.092764, 3.445695], [51.092795, 3.445554], [51.092824, 3.445417], [51.09285, 3.445297], [51.092879, 3.445166], [51.092908, 3.445029], [51.092937, 3.444897], [51.092966, 3.444763], [51.092992, 3.444642], [51.09302, 3.444513], [51.093048, 3.444383], [51.093073, 3.444265], [51.093101, 3.444135], [51.09313, 3.444001], [51.093153, 3.443898], [51.093177, 3.443786], [51.0932, 3.443678], [51.093224, 3.443567], [51.093249, 3.443451], [51.09327, 3.443353], [51.093294, 3.443243], [51.093318, 3.443134], [51.093341, 3.443026], [51.093365, 3.442914], [51.093392, 3.442792], [51.093433, 3.442599], [51.093475, 3.442407], [51.093502, 3.44228], [51.093545, 3.442084], [51.093587, 3.441887], [51.093613, 3.441767], [51.093651, 3.441591], [51.093676, 3.441477], [51.0937, 3.441365], [51.093743, 3.441167], [51.093778, 3.441005], [51.093807, 3.44087], [51.093836, 3.440736], [51.093862, 3.440617], [51.093889, 3.440491], [51.09393, 3.4403], [51.093968, 3.440125], [51.094005, 3.439952], [51.094048, 3.439754], [51.094082, 3.439597], [51.094088, 3.43957], [51.094098, 3.439524], [51.094101, 3.439508], [51.094116, 3.439439], [51.094132, 3.439368], [51.094148, 3.439291], [51.094151, 3.439278], [51.094178, 3.439152], [51.094186, 3.439116], [51.094189, 3.439105], [51.094198, 3.439061], [51.094205, 3.43903], [51.094229, 3.438918], [51.094254, 3.438804], [51.094293, 3.438622], [51.094333, 3.438437], [51.094372, 3.438257], [51.094416, 3.438054], [51.094455, 3.437872], [51.094498, 3.437674], [51.094539, 3.437485], [51.094574, 3.437324], [51.094607, 3.43717], [51.094631, 3.43706], [51.09466, 3.436924], [51.094685, 3.436807], [51.094729, 3.436604], [51.094767, 3.436429], [51.094804, 3.436255], [51.094839, 3.436093], [51.09487, 3.435952], [51.0949, 3.435812], [51.094913, 3.43575], [51.094936, 3.435648], [51.09495, 3.435579], [51.094968, 3.435498], [51.095001, 3.435345], [51.095023, 3.435243], [51.095035, 3.435187], [51.095066, 3.435044], [51.095094, 3.434913], [51.095123, 3.434783], [51.095165, 3.434586], [51.095195, 3.434449], [51.095225, 3.434308], [51.09525, 3.434194], [51.095259, 3.434154], [51.095295, 3.433986], [51.095325, 3.433846], [51.095363, 3.433669], [51.095382, 3.433581], [51.095416, 3.433425], [51.095446, 3.433283], [51.095474, 3.433156], [51.0955, 3.433035], [51.095525, 3.432921], [51.095547, 3.432818], [51.095572, 3.432704], [51.095595, 3.432594], [51.095622, 3.43247], [51.095654, 3.432326], [51.09573, 3.431971], [51.095808, 3.431613], [51.095846, 3.431439], [51.095918, 3.431102], [51.095918, 3.431101], [51.096011, 3.430668], [51.096105, 3.430237], [51.096186, 3.429857], [51.096315, 3.42926], [51.096462, 3.428579], [51.096574, 3.428061], [51.096784, 3.427089], [51.096914, 3.426487], [51.097049, 3.425864], [51.097135, 3.425462], [51.097264, 3.424867], [51.097455, 3.423981], [51.097589, 3.423361], [51.097674, 3.422968], [51.097819, 3.422296], [51.097973, 3.421585], [51.098095, 3.421018], [51.098215, 3.42046], [51.098464, 3.419308], [51.098581, 3.418764], [51.098661, 3.418392], [51.098795, 3.417771], [51.098981, 3.416908], [51.099001, 3.416819], [51.099027, 3.416695], [51.099028, 3.41669], [51.099085, 3.416427], [51.09918, 3.415983], [51.099312, 3.415376], [51.0994, 3.414966], [51.099455, 3.41471], [51.099583, 3.41412], [51.09971, 3.41353], [51.099787, 3.413174], [51.099919, 3.412562], [51.100002, 3.412175], [51.100069, 3.411865], [51.10011, 3.411674], [51.100266, 3.410951], [51.100482, 3.409947], [51.100566, 3.409561], [51.100572, 3.409532], [51.100597, 3.409416], [51.100609, 3.409359], [51.100725, 3.408828], [51.100767, 3.408636], [51.100936, 3.407883], [51.101065, 3.407327], [51.101101, 3.407174], [51.101304, 3.406316], [51.101508, 3.405485], [51.101614, 3.405062], [51.101658, 3.404886], [51.101811, 3.404291], [51.10205, 3.403387], [51.102237, 3.402698], [51.102262, 3.402605], [51.102347, 3.402299], [51.102434, 3.401985], [51.102521, 3.401678], [51.102664, 3.401177], [51.102743, 3.400904], [51.102865, 3.400487], [51.103001, 3.40003], [51.103177, 3.399449], [51.103369, 3.398823], [51.103484, 3.398456], [51.103575, 3.398168], [51.103659, 3.397907], [51.103799, 3.397472], [51.103806, 3.39745], [51.103834, 3.397363], [51.103891, 3.397189], [51.104051, 3.396705], [51.104189, 3.396292], [51.104424, 3.395603], [51.104669, 3.394897], [51.104896, 3.394255], [51.105023, 3.393902], [51.105082, 3.393739], [51.105186, 3.393451], [51.105379, 3.392912], [51.10559, 3.392325], [51.105704, 3.392011], [51.105806, 3.391726], [51.106049, 3.39105], [51.106274, 3.390424], [51.106453, 3.389928], [51.106495, 3.389811], [51.106646, 3.38939], [51.106776, 3.38903], [51.106982, 3.388457], [51.107134, 3.388035], [51.107285, 3.387613], [51.107438, 3.387189], [51.107575, 3.386701], [51.107738, 3.386354], [51.10791, 3.385876], [51.108036, 3.385526], [51.10824, 3.38496], [51.108408, 3.384491], [51.108547, 3.384103], [51.108675, 3.383748], [51.108756, 3.383522], [51.108793, 3.383421], [51.108803, 3.383393], [51.108822, 3.383338], [51.108893, 3.383142], [51.109037, 3.382741], [51.109237, 3.382187], [51.109427, 3.381659], [51.109531, 3.381369], [51.109648, 3.381041], [51.109735, 3.380801], [51.109752, 3.380753], [51.109827, 3.380545], [51.109983, 3.380108], [51.110121, 3.379727], [51.110247, 3.379376], [51.110323, 3.379166], [51.110505, 3.378657], [51.110699, 3.378119], [51.110822, 3.377778], [51.110957, 3.377403], [51.111051, 3.377139], [51.111136, 3.376902], [51.111314, 3.376409], [51.111417, 3.37612], [51.111537, 3.375788], [51.111561, 3.375719], [51.11157, 3.375695], [51.111657, 3.375455], [51.111759, 3.375169], [51.111819, 3.375004], [51.111889, 3.374809], [51.111905, 3.374765], [51.112124, 3.374155], [51.112363, 3.37349], [51.112495, 3.373122], [51.112657, 3.37267], [51.112771, 3.372353], [51.112931, 3.371908], [51.113059, 3.371552], [51.113219, 3.371107], [51.113341, 3.370767], [51.113534, 3.370229], [51.113655, 3.369893], [51.113749, 3.369631], [51.113921, 3.369152], [51.114046, 3.368806], [51.114212, 3.368344], [51.114306, 3.368082], [51.114327, 3.368025], [51.114364, 3.36792], [51.114423, 3.367758], [51.114565, 3.367361], [51.114763, 3.366809], [51.114836, 3.366606], [51.114954, 3.366279], [51.115144, 3.365748], [51.115277, 3.365381], [51.115412, 3.365004], [51.115427, 3.36496], [51.115535, 3.364661], [51.115609, 3.364454], [51.11568, 3.364258], [51.115772, 3.364001], [51.115844, 3.3638], [51.115979, 3.363424], [51.116095, 3.3631], [51.116207, 3.362789], [51.11631, 3.362502], [51.116379, 3.362311], [51.116572, 3.361774], [51.116758, 3.361253], [51.116943, 3.360739], [51.11706, 3.360414], [51.117141, 3.360187], [51.117237, 3.359922], [51.117394, 3.359484], [51.117484, 3.359233], [51.117584, 3.358953], [51.117672, 3.358709], [51.117753, 3.358483], [51.11786, 3.358185], [51.117988, 3.357828], [51.118104, 3.357503], [51.118213, 3.357201], [51.118221, 3.357178], [51.118224, 3.35717], [51.11823, 3.357155], [51.118369, 3.356766], [51.118531, 3.356317], [51.118655, 3.355969], [51.11872, 3.355788], [51.11875, 3.355705], [51.118789, 3.355598], [51.118825, 3.355496], [51.118859, 3.355404], [51.118896, 3.355299], [51.118935, 3.355191], [51.118998, 3.355014], [51.119055, 3.354856], [51.11911, 3.354701], [51.119164, 3.354551], [51.11922, 3.354397], [51.119272, 3.354252], [51.119334, 3.354078], [51.119384, 3.35394], [51.119435, 3.353797], [51.119498, 3.35362], [51.119531, 3.353529], [51.119566, 3.353431], [51.119601, 3.353335], [51.119666, 3.353152], [51.119732, 3.35297], [51.119787, 3.352816], [51.119851, 3.35264], [51.119911, 3.352472], [51.119966, 3.352317], [51.120022, 3.352163], [51.120071, 3.352026], [51.120107, 3.351926], [51.12017, 3.351749], [51.120208, 3.351644], [51.120246, 3.351537], [51.12028, 3.351443], [51.120345, 3.351262], [51.120369, 3.351196], [51.120376, 3.351175], [51.120417, 3.351061], [51.12042, 3.351052], [51.120449, 3.350973], [51.120509, 3.350805], [51.120567, 3.350644], [51.120623, 3.350487], [51.120674, 3.350345], [51.120728, 3.350195], [51.120779, 3.350052], [51.120828, 3.349916], [51.120888, 3.34975], [51.120937, 3.349611], [51.120989, 3.349467], [51.121044, 3.349315], [51.121095, 3.349173], [51.121145, 3.349035], [51.121201, 3.348877], [51.121246, 3.348752], [51.121294, 3.348619], [51.12134, 3.34849], [51.121384, 3.348368], [51.12143, 3.348239], [51.121473, 3.348121], [51.121521, 3.347986], [51.121564, 3.347866], [51.121605, 3.347752], [51.121647, 3.347636], [51.121684, 3.347533], [51.121718, 3.347436], [51.121784, 3.347255], [51.121836, 3.34711], [51.12187, 3.347015], [51.121931, 3.346843], [51.121994, 3.34667], [51.12206, 3.346485], [51.122125, 3.346304], [51.12219, 3.34612], [51.122249, 3.345957], [51.12231, 3.345786], [51.122371, 3.345617], [51.122421, 3.345478], [51.122466, 3.345352], [51.122527, 3.345184], [51.122588, 3.345014], [51.12265, 3.344839], [51.122709, 3.344674], [51.122771, 3.344503], [51.122829, 3.344342], [51.122884, 3.344187], [51.122937, 3.344039], [51.122993, 3.343885], [51.123052, 3.34372], [51.123109, 3.343562], [51.123164, 3.343407], [51.123209, 3.343282], [51.123264, 3.343129], [51.12332, 3.342972], [51.123381, 3.342802], [51.123435, 3.342653], [51.123488, 3.342505], [51.123536, 3.342373], [51.123589, 3.342225], [51.123641, 3.342078], [51.1237, 3.341915], [51.123752, 3.341769], [51.123798, 3.34164], [51.123846, 3.341506], [51.12389, 3.341384], [51.123928, 3.341278], [51.123962, 3.341184], [51.124018, 3.341029], [51.124077, 3.340863], [51.124139, 3.34069], [51.124201, 3.340518], [51.124232, 3.340432], [51.124269, 3.340328], [51.124323, 3.340179], [51.124384, 3.340008], [51.124446, 3.339835], [51.12451, 3.339658], [51.124568, 3.339495], [51.124628, 3.339329], [51.124687, 3.339163], [51.124737, 3.339024], [51.124798, 3.338855], [51.124833, 3.338758], [51.124869, 3.338657], [51.124906, 3.338554], [51.124938, 3.338464], [51.124974, 3.338365], [51.125038, 3.338187], [51.125089, 3.338043], [51.125127, 3.337937], [51.125187, 3.337771], [51.125245, 3.337609], [51.125297, 3.337465], [51.125346, 3.337327], [51.125401, 3.337173], [51.125452, 3.337031], [51.125498, 3.336903], [51.125564, 3.33672], [51.125624, 3.336553], [51.125687, 3.336377], [51.125746, 3.336213], [51.125796, 3.336075], [51.125844, 3.335939], [51.125893, 3.335804], [51.12594, 3.335674], [51.125982, 3.335555], [51.12602, 3.335449], [51.126059, 3.33534], [51.126097, 3.335236], [51.126137, 3.335123], [51.126178, 3.335008], [51.126221, 3.334889], [51.126266, 3.334762], [51.126301, 3.334666], [51.126365, 3.334486], [51.126428, 3.334312], [51.126491, 3.334135], [51.126551, 3.333971], [51.126612, 3.333801], [51.126668, 3.333644], [51.126725, 3.333484], [51.126785, 3.333318], [51.126826, 3.333203], [51.126867, 3.333088], [51.12691, 3.332969], [51.12694, 3.332884], [51.126983, 3.332765], [51.127004, 3.332706], [51.127045, 3.332594], [51.127103, 3.332431], [51.127161, 3.332269], [51.127221, 3.332101], [51.127286, 3.331922], [51.127338, 3.331776], [51.127388, 3.331637], [51.127438, 3.331498], [51.127485, 3.331366], [51.127529, 3.331243], [51.12758, 3.331102], [51.127627, 3.330969], [51.127673, 3.330843], [51.127716, 3.330723], [51.127781, 3.330542], [51.127847, 3.330358], [51.12788, 3.330266], [51.127921, 3.330152], [51.127957, 3.330052], [51.127999, 3.329935], [51.127984, 3.329867], [51.128022, 3.329862], [51.128065, 3.32975], [51.128132, 3.329564], [51.128191, 3.329401], [51.128236, 3.329275], [51.128302, 3.329091], [51.128331, 3.329009], [51.128392, 3.32884], [51.128415, 3.328776], [51.128419, 3.328765], [51.128431, 3.328731], [51.128468, 3.328629], [51.128483, 3.328586], [51.128488, 3.328573], [51.128496, 3.328549], [51.128554, 3.328388], [51.128595, 3.328273], [51.128634, 3.328166], [51.128667, 3.328075], [51.128733, 3.32789], [51.128799, 3.327705], [51.128833, 3.32761], [51.128899, 3.327427], [51.128966, 3.327241], [51.129032, 3.327058], [51.129068, 3.326955], [51.12913, 3.326782], [51.129189, 3.326619], [51.129231, 3.326502], [51.129287, 3.326345], [51.129326, 3.326238], [51.12936, 3.326143], [51.129404, 3.326019], [51.129442, 3.325912], [51.129508, 3.325729], [51.129544, 3.325629], [51.129579, 3.325529], [51.129616, 3.325429], [51.129649, 3.325335], [51.129683, 3.325242], [51.12972, 3.325136], [51.129752, 3.325048], [51.129815, 3.324872], [51.129879, 3.324694], [51.129931, 3.324548], [51.129985, 3.324399], [51.13004, 3.324246], [51.130104, 3.324068], [51.130161, 3.323909], [51.130205, 3.323786], [51.130252, 3.323654], [51.130296, 3.323531], [51.130342, 3.323404], [51.130389, 3.323273], [51.130432, 3.323153], [51.130457, 3.323084], [51.1305, 3.322962], [51.130547, 3.322833], [51.130585, 3.322728], [51.130639, 3.322574], [51.130704, 3.322393], [51.130752, 3.32226], [51.130805, 3.322113], [51.130849, 3.321991], [51.130889, 3.321879], [51.13093, 3.321764], [51.130971, 3.32165], [51.131017, 3.321522], [51.131065, 3.321388], [51.131106, 3.321272], [51.131137, 3.321186], [51.131178, 3.321072], [51.131211, 3.320981], [51.131254, 3.32086], [51.131286, 3.320772], [51.131351, 3.32059], [51.131412, 3.32042], [51.131465, 3.320272], [51.13152, 3.32012], [51.131559, 3.32001], [51.131625, 3.319827], [51.131652, 3.319751], [51.131695, 3.319631], [51.131758, 3.319455], [51.131824, 3.31927], [51.131867, 3.319151], [51.131903, 3.31905], [51.131967, 3.318872], [51.132022, 3.318719], [51.13208, 3.318557], [51.132129, 3.318421], [51.132176, 3.318289], [51.132227, 3.318147], [51.132268, 3.318035], [51.132344, 3.317822], [51.132455, 3.317513], [51.132532, 3.317299], [51.13256, 3.317221], [51.132615, 3.317068], [51.132692, 3.316852], [51.132742, 3.316712], [51.132851, 3.316408], [51.132914, 3.316234], [51.133067, 3.315806], [51.133183, 3.315483], [51.133264, 3.315259], [51.133392, 3.314901], [51.13349, 3.314629], [51.133651, 3.314179], [51.133734, 3.313949], [51.133824, 3.313696], [51.133944, 3.313362], [51.134085, 3.312969], [51.134233, 3.312556], [51.134404, 3.312081], [51.134479, 3.311871], [51.134537, 3.311711], [51.134591, 3.31156], [51.134611, 3.311505], [51.134648, 3.3114], [51.134746, 3.311129], [51.134885, 3.310741], [51.13505, 3.310278], [51.135179, 3.309921], [51.135244, 3.309739], [51.135316, 3.309536], [51.135497, 3.309034], [51.135713, 3.308429], [51.135839, 3.308077], [51.135973, 3.307704], [51.136044, 3.307508], [51.136075, 3.307421], [51.136265, 3.306889], [51.136375, 3.306583], [51.136545, 3.306109], [51.136622, 3.305894], [51.136688, 3.30571], [51.1368, 3.305398], [51.136898, 3.305125], [51.137061, 3.304669], [51.137176, 3.304349], [51.137322, 3.303942], [51.137412, 3.303692], [51.137481, 3.3035], [51.137595, 3.303178], [51.137745, 3.302759], [51.137865, 3.302427], [51.138025, 3.301979], [51.138118, 3.30172], [51.138227, 3.301415], [51.13832, 3.301156], [51.138471, 3.300737], [51.138534, 3.30056], [51.138634, 3.30028], [51.138747, 3.299964], [51.13879, 3.299844], [51.138825, 3.299748], [51.138837, 3.299714], [51.138956, 3.299383], [51.139031, 3.299172], [51.139086, 3.299019], [51.139227, 3.298625], [51.139384, 3.298188], [51.139559, 3.2977], [51.139706, 3.297289], [51.139761, 3.297133], [51.139784, 3.29707], [51.139899, 3.29675], [51.140059, 3.296302], [51.1402, 3.295909], [51.140337, 3.295527], [51.140486, 3.295111], [51.140594, 3.294811], [51.140636, 3.294693], [51.140771, 3.294316], [51.140901, 3.293951], [51.141025, 3.293606], [51.141114, 3.293357], [51.141239, 3.29301], [51.141332, 3.292748], [51.14141, 3.292531], [51.141449, 3.292423], [51.14145, 3.292418], [51.141486, 3.29232], [51.14151, 3.292253], [51.141632, 3.291912], [51.141747, 3.291593], [51.141842, 3.291328], [51.14192, 3.29111], [51.142022, 3.290823], [51.142121, 3.290549], [51.142231, 3.290241], [51.142343, 3.28993], [51.142432, 3.289679], [51.142523, 3.289428], [51.142623, 3.289149], [51.142728, 3.288855], [51.142825, 3.288583], [51.142938, 3.288268], [51.143009, 3.288072], [51.143111, 3.287787], [51.143185, 3.28758], [51.143265, 3.287357], [51.143345, 3.287133], [51.143404, 3.286967], [51.143428, 3.286901], [51.143496, 3.28671], [51.143577, 3.286485], [51.143661, 3.286251], [51.143752, 3.285996], [51.143785, 3.285905], [51.143845, 3.285738], [51.143887, 3.285618], [51.143938, 3.285479], [51.143982, 3.285353], [51.144067, 3.285117], [51.144102, 3.28502], [51.14414, 3.284912], [51.144182, 3.284796], [51.14423, 3.284661], [51.144281, 3.284521], [51.144324, 3.284399], [51.144366, 3.284283], [51.144409, 3.284161], [51.144475, 3.283979], [51.144527, 3.283832], [51.144583, 3.283677], [51.144646, 3.283502], [51.144698, 3.283356], [51.144763, 3.283174], [51.144821, 3.283012], [51.144881, 3.282846], [51.144955, 3.282641], [51.145024, 3.282446], [51.145043, 3.282395], [51.145107, 3.282216], [51.145168, 3.282043], [51.145225, 3.281885], [51.14526, 3.281789], [51.145302, 3.281671], [51.145348, 3.281541], [51.145398, 3.281401], [51.14545, 3.281256], [51.14549, 3.281145], [51.145537, 3.281014], [51.145586, 3.280878], [51.145644, 3.280715], [51.145689, 3.28059], [51.145739, 3.280451], [51.145788, 3.280313], [51.145838, 3.280172], [51.145881, 3.280052], [51.145931, 3.279914], [51.145963, 3.279824], [51.146001, 3.279717], [51.146071, 3.279524], [51.146128, 3.279365], [51.146176, 3.279231], [51.146217, 3.279117], [51.146258, 3.279002], [51.146301, 3.278881], [51.147632, 3.275164], [51.148338, 3.273193], [51.148372, 3.272988]],\n",
       "                {&quot;bubblingMouseEvents&quot;: true, &quot;color&quot;: &quot;red&quot;, &quot;dashArray&quot;: null, &quot;dashOffset&quot;: null, &quot;fill&quot;: false, &quot;fillColor&quot;: &quot;red&quot;, &quot;fillOpacity&quot;: 0.2, &quot;fillRule&quot;: &quot;evenodd&quot;, &quot;lineCap&quot;: &quot;round&quot;, &quot;lineJoin&quot;: &quot;round&quot;, &quot;noClip&quot;: false, &quot;opacity&quot;: 1.0, &quot;smoothFactor&quot;: 1.0, &quot;stroke&quot;: true, &quot;weight&quot;: 3}\n",
       "            ).addTo(map_c9180294a5ff6fb278539e1d0b2b7f97);\n",
       "        \n",
       "    \n",
       "            var marker_a47c7df668d7bf052de114d814637bb6 = L.marker(\n",
       "                [51.1002386, 3.3885940000000003],\n",
       "                {}\n",
       "            ).addTo(map_c9180294a5ff6fb278539e1d0b2b7f97);\n",
       "        \n",
       "    \n",
       "        var popup_0ea44fca2a534259bfc556b3009bb7b3 = L.popup({&quot;maxWidth&quot;: &quot;100%&quot;});\n",
       "\n",
       "        \n",
       "            \n",
       "                var html_024df706f28802ab48e97b13e1c7d762 = $(`&lt;div id=&quot;html_024df706f28802ab48e97b13e1c7d762&quot; style=&quot;width: 100.0%; height: 100.0%;&quot;&gt;GNSS output&lt;/div&gt;`)[0];\n",
       "                popup_0ea44fca2a534259bfc556b3009bb7b3.setContent(html_024df706f28802ab48e97b13e1c7d762);\n",
       "            \n",
       "        \n",
       "\n",
       "        marker_a47c7df668d7bf052de114d814637bb6.bindPopup(popup_0ea44fca2a534259bfc556b3009bb7b3)\n",
       "        ;\n",
       "\n",
       "        \n",
       "    \n",
       "&lt;/script&gt;\n",
       "&lt;/html&gt;\" style=\"position:absolute;width:100%;height:100%;left:0;top:0;border:none !important;\" allowfullscreen webkitallowfullscreen mozallowfullscreen></iframe></div></div>"
      ],
      "text/plain": [
       "<folium.folium.Map at 0x78b51df59b70>"
      ]
     },
     "metadata": {},
     "output_type": "display_data"
    }
   ],
   "source": [
    "display(mapa)"
   ]
  },
  {
   "cell_type": "code",
   "execution_count": 43,
   "metadata": {},
   "outputs": [
    {
     "data": {
      "image/png": "[encoded data removed]",
      "text/plain": [
       "<Figure size 640x480 with 1 Axes>"
      ]
     },
     "metadata": {},
     "output_type": "display_data"
    },
    {
     "data": {
      "text/html": [
       "<div style=\"width:100%;\"><div style=\"position:relative;width:100%;height:0;padding-bottom:60%;\"><span style=\"color:#565656\">Make this Notebook Trusted to load map: File -> Trust Notebook</span><iframe srcdoc=\"&lt;!DOCTYPE html&gt;\n",
       "&lt;html&gt;\n",
       "&lt;head&gt;\n",
       "    \n",
       "    &lt;meta http-equiv=&quot;content-type&quot; content=&quot;text/html; charset=UTF-8&quot; /&gt;\n",
       "    \n",
       "        &lt;script&gt;\n",
       "            L_NO_TOUCH = false;\n",
       "            L_DISABLE_3D = false;\n",
       "        &lt;/script&gt;\n",
       "    \n",
       "    &lt;style&gt;html, body {width: 100%;height: 100%;margin: 0;padding: 0;}&lt;/style&gt;\n",
       "    &lt;style&gt;#map {position:absolute;top:0;bottom:0;right:0;left:0;}&lt;/style&gt;\n",
       "    &lt;script src=&quot;https://cdn.jsdelivr.net/npm/leaflet@1.9.3/dist/leaflet.js&quot;&gt;&lt;/script&gt;\n",
       "    &lt;script src=&quot;https://code.jquery.com/jquery-3.7.1.min.js&quot;&gt;&lt;/script&gt;\n",
       "    &lt;script src=&quot;https://cdn.jsdelivr.net/npm/bootstrap@5.2.2/dist/js/bootstrap.bundle.min.js&quot;&gt;&lt;/script&gt;\n",
       "    &lt;script src=&quot;https://cdnjs.cloudflare.com/ajax/libs/Leaflet.awesome-markers/2.0.2/leaflet.awesome-markers.js&quot;&gt;&lt;/script&gt;\n",
       "    &lt;link rel=&quot;stylesheet&quot; href=&quot;https://cdn.jsdelivr.net/npm/leaflet@1.9.3/dist/leaflet.css&quot;/&gt;\n",
       "    &lt;link rel=&quot;stylesheet&quot; href=&quot;https://cdn.jsdelivr.net/npm/bootstrap@5.2.2/dist/css/bootstrap.min.css&quot;/&gt;\n",
       "    &lt;link rel=&quot;stylesheet&quot; href=&quot;https://netdna.bootstrapcdn.com/bootstrap/3.0.0/css/bootstrap-glyphicons.css&quot;/&gt;\n",
       "    &lt;link rel=&quot;stylesheet&quot; href=&quot;https://cdn.jsdelivr.net/npm/@fortawesome/fontawesome-free@6.2.0/css/all.min.css&quot;/&gt;\n",
       "    &lt;link rel=&quot;stylesheet&quot; href=&quot;https://cdnjs.cloudflare.com/ajax/libs/Leaflet.awesome-markers/2.0.2/leaflet.awesome-markers.css&quot;/&gt;\n",
       "    &lt;link rel=&quot;stylesheet&quot; href=&quot;https://cdn.jsdelivr.net/gh/python-visualization/folium/folium/templates/leaflet.awesome.rotate.min.css&quot;/&gt;\n",
       "    \n",
       "            &lt;meta name=&quot;viewport&quot; content=&quot;width=device-width,\n",
       "                initial-scale=1.0, maximum-scale=1.0, user-scalable=no&quot; /&gt;\n",
       "            &lt;style&gt;\n",
       "                #map_c9180294a5ff6fb278539e1d0b2b7f97 {\n",
       "                    position: relative;\n",
       "                    width: 800.0px;\n",
       "                    height: 450.0px;\n",
       "                    left: 0.0%;\n",
       "                    top: 0.0%;\n",
       "                }\n",
       "                .leaflet-container { font-size: 1rem; }\n",
       "            &lt;/style&gt;\n",
       "        \n",
       "&lt;/head&gt;\n",
       "&lt;body&gt;\n",
       "    \n",
       "    \n",
       "            &lt;div class=&quot;folium-map&quot; id=&quot;map_c9180294a5ff6fb278539e1d0b2b7f97&quot; &gt;&lt;/div&gt;\n",
       "        \n",
       "&lt;/body&gt;\n",
       "&lt;script&gt;\n",
       "    \n",
       "    \n",
       "            var map_c9180294a5ff6fb278539e1d0b2b7f97 = L.map(\n",
       "                &quot;map_c9180294a5ff6fb278539e1d0b2b7f97&quot;,\n",
       "                {\n",
       "                    center: [51.112495, 3.373122],\n",
       "                    crs: L.CRS.EPSG3857,\n",
       "                    zoom: 13,\n",
       "                    zoomControl: true,\n",
       "                    preferCanvas: false,\n",
       "                }\n",
       "            );\n",
       "\n",
       "            \n",
       "\n",
       "        \n",
       "    \n",
       "            var tile_layer_25690a3c0067c53024f59f811af8e0fe = L.tileLayer(\n",
       "                &quot;https://tile.openstreetmap.org/{z}/{x}/{y}.png&quot;,\n",
       "                {&quot;attribution&quot;: &quot;\\u0026copy; \\u003ca href=\\&quot;https://www.openstreetmap.org/copyright\\&quot;\\u003eOpenStreetMap\\u003c/a\\u003e contributors&quot;, &quot;detectRetina&quot;: false, &quot;maxNativeZoom&quot;: 19, &quot;maxZoom&quot;: 19, &quot;minZoom&quot;: 0, &quot;noWrap&quot;: false, &quot;opacity&quot;: 1, &quot;subdomains&quot;: &quot;abc&quot;, &quot;tms&quot;: false}\n",
       "            );\n",
       "        \n",
       "    \n",
       "            tile_layer_25690a3c0067c53024f59f811af8e0fe.addTo(map_c9180294a5ff6fb278539e1d0b2b7f97);\n",
       "        \n",
       "    \n",
       "            var poly_line_30e36232e82ac1f9f404c65b9392ed1a = L.polyline(\n",
       "                [[51.085764, 3.477568], [51.085946, 3.4772], [51.086054, 3.476702], [51.086077, 3.476599], [51.086085, 3.47656], [51.086111, 3.476441], [51.086133, 3.476339], [51.08616, 3.476215], [51.086214, 3.475965], [51.086248, 3.47581], [51.086308, 3.475531], [51.086349, 3.475343], [51.086408, 3.475071], [51.086454, 3.474857], [51.086528, 3.474514], [51.086577, 3.47429], [51.086622, 3.474079], [51.086679, 3.473817], [51.086749, 3.473494], [51.086818, 3.473175], [51.086865, 3.47296], [51.086939, 3.47262], [51.087, 3.472338], [51.08701, 3.472291], [51.08702, 3.472244], [51.087026, 3.472216], [51.087081, 3.471963], [51.087123, 3.471769], [51.087148, 3.471653], [51.087199, 3.471417], [51.087248, 3.471193], [51.08731, 3.470903], [51.087404, 3.47047], [51.087466, 3.470184], [51.08748, 3.470122], [51.087533, 3.469875], [51.087609, 3.469524], [51.087623, 3.469461], [51.087661, 3.469285], [51.087706, 3.469078], [51.087769, 3.468786], [51.087814, 3.468578], [51.087856, 3.468381], [51.087899, 3.468185], [51.087953, 3.467933], [51.088008, 3.467682], [51.088042, 3.467522], [51.08807, 3.467394], [51.0881, 3.467256], [51.088106, 3.467229], [51.088135, 3.467096], [51.088166, 3.466951], [51.088193, 3.466825], [51.08828, 3.466425], [51.088324, 3.466222], [51.088383, 3.465945], [51.088451, 3.465634], [51.088517, 3.465332], [51.088627, 3.46482], [51.088721, 3.464386], [51.088793, 3.464056], [51.08888, 3.463655], [51.08898, 3.463189], [51.089071, 3.46277], [51.089111, 3.462585], [51.089163, 3.462348], [51.08927, 3.461851], [51.089378, 3.461351], [51.08949, 3.460835], [51.089514, 3.460726], [51.089566, 3.460483], [51.089603, 3.460314], [51.089624, 3.460213], [51.089716, 3.45979], [51.089859, 3.459132], [51.090066, 3.458172], [51.090165, 3.457715], [51.090246, 3.457344], [51.090257, 3.457291], [51.090262, 3.45727], [51.090266, 3.45725], [51.09029, 3.457141], [51.090295, 3.457115], [51.090296, 3.457111], [51.090386, 3.456696], [51.090504, 3.456149], [51.090606, 3.455678], [51.090654, 3.455455], [51.090689, 3.455292], [51.090714, 3.455179], [51.090768, 3.45493], [51.090803, 3.454765], [51.090881, 3.454406], [51.090917, 3.454241], [51.090918, 3.454233], [51.090962, 3.45403], [51.091021, 3.45376], [51.091079, 3.453492], [51.091125, 3.453275], [51.091156, 3.453133], [51.09119, 3.452978], [51.091229, 3.452795], [51.091268, 3.452616], [51.091319, 3.45238], [51.091364, 3.452172], [51.091409, 3.451963], [51.09143, 3.451867], [51.091443, 3.451803], [51.091463, 3.451714], [51.091523, 3.451435], [51.091573, 3.451206], [51.091588, 3.451134], [51.091607, 3.451049], [51.091658, 3.450812], [51.09172, 3.450526], [51.091747, 3.450399], [51.091786, 3.450219], [51.091821, 3.450058], [51.091858, 3.449887], [51.091896, 3.449708], [51.091925, 3.449574], [51.091961, 3.449412], [51.091996, 3.44925], [51.092032, 3.449083], [51.092066, 3.448925], [51.0921, 3.448765], [51.092132, 3.448618], [51.092158, 3.448501], [51.09219, 3.448352], [51.092224, 3.448196], [51.092257, 3.448042], [51.092258, 3.447855], [51.092322, 3.447739], [51.092352, 3.447601], [51.09238, 3.447471], [51.092408, 3.447344], [51.092439, 3.447201], [51.092471, 3.447053], [51.092501, 3.446913], [51.092505, 3.446896], [51.092521, 3.446822], [51.092533, 3.446763], [51.092537, 3.446745], [51.092565, 3.446619], [51.092594, 3.44648], [51.092625, 3.44634], [51.092645, 3.446246], [51.092667, 3.446146], [51.092689, 3.446041], [51.092712, 3.445937], [51.092739, 3.445812], [51.092764, 3.445695], [51.092795, 3.445554], [51.092824, 3.445417], [51.09285, 3.445297], [51.092879, 3.445166], [51.092908, 3.445029], [51.092937, 3.444897], [51.092966, 3.444763], [51.092992, 3.444642], [51.09302, 3.444513], [51.093048, 3.444383], [51.093073, 3.444265], [51.093101, 3.444135], [51.09313, 3.444001], [51.093153, 3.443898], [51.093177, 3.443786], [51.0932, 3.443678], [51.093224, 3.443567], [51.093249, 3.443451], [51.09327, 3.443353], [51.093294, 3.443243], [51.093318, 3.443134], [51.093341, 3.443026], [51.093365, 3.442914], [51.093392, 3.442792], [51.093433, 3.442599], [51.093475, 3.442407], [51.093502, 3.44228], [51.093545, 3.442084], [51.093587, 3.441887], [51.093613, 3.441767], [51.093651, 3.441591], [51.093676, 3.441477], [51.0937, 3.441365], [51.093743, 3.441167], [51.093778, 3.441005], [51.093807, 3.44087], [51.093836, 3.440736], [51.093862, 3.440617], [51.093889, 3.440491], [51.09393, 3.4403], [51.093968, 3.440125], [51.094005, 3.439952], [51.094048, 3.439754], [51.094082, 3.439597], [51.094088, 3.43957], [51.094098, 3.439524], [51.094101, 3.439508], [51.094116, 3.439439], [51.094132, 3.439368], [51.094148, 3.439291], [51.094151, 3.439278], [51.094178, 3.439152], [51.094186, 3.439116], [51.094189, 3.439105], [51.094198, 3.439061], [51.094205, 3.43903], [51.094229, 3.438918], [51.094254, 3.438804], [51.094293, 3.438622], [51.094333, 3.438437], [51.094372, 3.438257], [51.094416, 3.438054], [51.094455, 3.437872], [51.094498, 3.437674], [51.094539, 3.437485], [51.094574, 3.437324], [51.094607, 3.43717], [51.094631, 3.43706], [51.09466, 3.436924], [51.094685, 3.436807], [51.094729, 3.436604], [51.094767, 3.436429], [51.094804, 3.436255], [51.094839, 3.436093], [51.09487, 3.435952], [51.0949, 3.435812], [51.094913, 3.43575], [51.094936, 3.435648], [51.09495, 3.435579], [51.094968, 3.435498], [51.095001, 3.435345], [51.095023, 3.435243], [51.095035, 3.435187], [51.095066, 3.435044], [51.095094, 3.434913], [51.095123, 3.434783], [51.095165, 3.434586], [51.095195, 3.434449], [51.095225, 3.434308], [51.09525, 3.434194], [51.095259, 3.434154], [51.095295, 3.433986], [51.095325, 3.433846], [51.095363, 3.433669], [51.095382, 3.433581], [51.095416, 3.433425], [51.095446, 3.433283], [51.095474, 3.433156], [51.0955, 3.433035], [51.095525, 3.432921], [51.095547, 3.432818], [51.095572, 3.432704], [51.095595, 3.432594], [51.095622, 3.43247], [51.095654, 3.432326], [51.09573, 3.431971], [51.095808, 3.431613], [51.095846, 3.431439], [51.095918, 3.431102], [51.095918, 3.431101], [51.096011, 3.430668], [51.096105, 3.430237], [51.096186, 3.429857], [51.096315, 3.42926], [51.096462, 3.428579], [51.096574, 3.428061], [51.096784, 3.427089], [51.096914, 3.426487], [51.097049, 3.425864], [51.097135, 3.425462], [51.097264, 3.424867], [51.097455, 3.423981], [51.097589, 3.423361], [51.097674, 3.422968], [51.097819, 3.422296], [51.097973, 3.421585], [51.098095, 3.421018], [51.098215, 3.42046], [51.098464, 3.419308], [51.098581, 3.418764], [51.098661, 3.418392], [51.098795, 3.417771], [51.098981, 3.416908], [51.099001, 3.416819], [51.099027, 3.416695], [51.099028, 3.41669], [51.099085, 3.416427], [51.09918, 3.415983], [51.099312, 3.415376], [51.0994, 3.414966], [51.099455, 3.41471], [51.099583, 3.41412], [51.09971, 3.41353], [51.099787, 3.413174], [51.099919, 3.412562], [51.100002, 3.412175], [51.100069, 3.411865], [51.10011, 3.411674], [51.100266, 3.410951], [51.100482, 3.409947], [51.100566, 3.409561], [51.100572, 3.409532], [51.100597, 3.409416], [51.100609, 3.409359], [51.100725, 3.408828], [51.100767, 3.408636], [51.100936, 3.407883], [51.101065, 3.407327], [51.101101, 3.407174], [51.101304, 3.406316], [51.101508, 3.405485], [51.101614, 3.405062], [51.101658, 3.404886], [51.101811, 3.404291], [51.10205, 3.403387], [51.102237, 3.402698], [51.102262, 3.402605], [51.102347, 3.402299], [51.102434, 3.401985], [51.102521, 3.401678], [51.102664, 3.401177], [51.102743, 3.400904], [51.102865, 3.400487], [51.103001, 3.40003], [51.103177, 3.399449], [51.103369, 3.398823], [51.103484, 3.398456], [51.103575, 3.398168], [51.103659, 3.397907], [51.103799, 3.397472], [51.103806, 3.39745], [51.103834, 3.397363], [51.103891, 3.397189], [51.104051, 3.396705], [51.104189, 3.396292], [51.104424, 3.395603], [51.104669, 3.394897], [51.104896, 3.394255], [51.105023, 3.393902], [51.105082, 3.393739], [51.105186, 3.393451], [51.105379, 3.392912], [51.10559, 3.392325], [51.105704, 3.392011], [51.105806, 3.391726], [51.106049, 3.39105], [51.106274, 3.390424], [51.106453, 3.389928], [51.106495, 3.389811], [51.106646, 3.38939], [51.106776, 3.38903], [51.106982, 3.388457], [51.107134, 3.388035], [51.107285, 3.387613], [51.107438, 3.387189], [51.107575, 3.386701], [51.107738, 3.386354], [51.10791, 3.385876], [51.108036, 3.385526], [51.10824, 3.38496], [51.108408, 3.384491], [51.108547, 3.384103], [51.108675, 3.383748], [51.108756, 3.383522], [51.108793, 3.383421], [51.108803, 3.383393], [51.108822, 3.383338], [51.108893, 3.383142], [51.109037, 3.382741], [51.109237, 3.382187], [51.109427, 3.381659], [51.109531, 3.381369], [51.109648, 3.381041], [51.109735, 3.380801], [51.109752, 3.380753], [51.109827, 3.380545], [51.109983, 3.380108], [51.110121, 3.379727], [51.110247, 3.379376], [51.110323, 3.379166], [51.110505, 3.378657], [51.110699, 3.378119], [51.110822, 3.377778], [51.110957, 3.377403], [51.111051, 3.377139], [51.111136, 3.376902], [51.111314, 3.376409], [51.111417, 3.37612], [51.111537, 3.375788], [51.111561, 3.375719], [51.11157, 3.375695], [51.111657, 3.375455], [51.111759, 3.375169], [51.111819, 3.375004], [51.111889, 3.374809], [51.111905, 3.374765], [51.112124, 3.374155], [51.112363, 3.37349], [51.112495, 3.373122], [51.112657, 3.37267], [51.112771, 3.372353], [51.112931, 3.371908], [51.113059, 3.371552], [51.113219, 3.371107], [51.113341, 3.370767], [51.113534, 3.370229], [51.113655, 3.369893], [51.113749, 3.369631], [51.113921, 3.369152], [51.114046, 3.368806], [51.114212, 3.368344], [51.114306, 3.368082], [51.114327, 3.368025], [51.114364, 3.36792], [51.114423, 3.367758], [51.114565, 3.367361], [51.114763, 3.366809], [51.114836, 3.366606], [51.114954, 3.366279], [51.115144, 3.365748], [51.115277, 3.365381], [51.115412, 3.365004], [51.115427, 3.36496], [51.115535, 3.364661], [51.115609, 3.364454], [51.11568, 3.364258], [51.115772, 3.364001], [51.115844, 3.3638], [51.115979, 3.363424], [51.116095, 3.3631], [51.116207, 3.362789], [51.11631, 3.362502], [51.116379, 3.362311], [51.116572, 3.361774], [51.116758, 3.361253], [51.116943, 3.360739], [51.11706, 3.360414], [51.117141, 3.360187], [51.117237, 3.359922], [51.117394, 3.359484], [51.117484, 3.359233], [51.117584, 3.358953], [51.117672, 3.358709], [51.117753, 3.358483], [51.11786, 3.358185], [51.117988, 3.357828], [51.118104, 3.357503], [51.118213, 3.357201], [51.118221, 3.357178], [51.118224, 3.35717], [51.11823, 3.357155], [51.118369, 3.356766], [51.118531, 3.356317], [51.118655, 3.355969], [51.11872, 3.355788], [51.11875, 3.355705], [51.118789, 3.355598], [51.118825, 3.355496], [51.118859, 3.355404], [51.118896, 3.355299], [51.118935, 3.355191], [51.118998, 3.355014], [51.119055, 3.354856], [51.11911, 3.354701], [51.119164, 3.354551], [51.11922, 3.354397], [51.119272, 3.354252], [51.119334, 3.354078], [51.119384, 3.35394], [51.119435, 3.353797], [51.119498, 3.35362], [51.119531, 3.353529], [51.119566, 3.353431], [51.119601, 3.353335], [51.119666, 3.353152], [51.119732, 3.35297], [51.119787, 3.352816], [51.119851, 3.35264], [51.119911, 3.352472], [51.119966, 3.352317], [51.120022, 3.352163], [51.120071, 3.352026], [51.120107, 3.351926], [51.12017, 3.351749], [51.120208, 3.351644], [51.120246, 3.351537], [51.12028, 3.351443], [51.120345, 3.351262], [51.120369, 3.351196], [51.120376, 3.351175], [51.120417, 3.351061], [51.12042, 3.351052], [51.120449, 3.350973], [51.120509, 3.350805], [51.120567, 3.350644], [51.120623, 3.350487], [51.120674, 3.350345], [51.120728, 3.350195], [51.120779, 3.350052], [51.120828, 3.349916], [51.120888, 3.34975], [51.120937, 3.349611], [51.120989, 3.349467], [51.121044, 3.349315], [51.121095, 3.349173], [51.121145, 3.349035], [51.121201, 3.348877], [51.121246, 3.348752], [51.121294, 3.348619], [51.12134, 3.34849], [51.121384, 3.348368], [51.12143, 3.348239], [51.121473, 3.348121], [51.121521, 3.347986], [51.121564, 3.347866], [51.121605, 3.347752], [51.121647, 3.347636], [51.121684, 3.347533], [51.121718, 3.347436], [51.121784, 3.347255], [51.121836, 3.34711], [51.12187, 3.347015], [51.121931, 3.346843], [51.121994, 3.34667], [51.12206, 3.346485], [51.122125, 3.346304], [51.12219, 3.34612], [51.122249, 3.345957], [51.12231, 3.345786], [51.122371, 3.345617], [51.122421, 3.345478], [51.122466, 3.345352], [51.122527, 3.345184], [51.122588, 3.345014], [51.12265, 3.344839], [51.122709, 3.344674], [51.122771, 3.344503], [51.122829, 3.344342], [51.122884, 3.344187], [51.122937, 3.344039], [51.122993, 3.343885], [51.123052, 3.34372], [51.123109, 3.343562], [51.123164, 3.343407], [51.123209, 3.343282], [51.123264, 3.343129], [51.12332, 3.342972], [51.123381, 3.342802], [51.123435, 3.342653], [51.123488, 3.342505], [51.123536, 3.342373], [51.123589, 3.342225], [51.123641, 3.342078], [51.1237, 3.341915], [51.123752, 3.341769], [51.123798, 3.34164], [51.123846, 3.341506], [51.12389, 3.341384], [51.123928, 3.341278], [51.123962, 3.341184], [51.124018, 3.341029], [51.124077, 3.340863], [51.124139, 3.34069], [51.124201, 3.340518], [51.124232, 3.340432], [51.124269, 3.340328], [51.124323, 3.340179], [51.124384, 3.340008], [51.124446, 3.339835], [51.12451, 3.339658], [51.124568, 3.339495], [51.124628, 3.339329], [51.124687, 3.339163], [51.124737, 3.339024], [51.124798, 3.338855], [51.124833, 3.338758], [51.124869, 3.338657], [51.124906, 3.338554], [51.124938, 3.338464], [51.124974, 3.338365], [51.125038, 3.338187], [51.125089, 3.338043], [51.125127, 3.337937], [51.125187, 3.337771], [51.125245, 3.337609], [51.125297, 3.337465], [51.125346, 3.337327], [51.125401, 3.337173], [51.125452, 3.337031], [51.125498, 3.336903], [51.125564, 3.33672], [51.125624, 3.336553], [51.125687, 3.336377], [51.125746, 3.336213], [51.125796, 3.336075], [51.125844, 3.335939], [51.125893, 3.335804], [51.12594, 3.335674], [51.125982, 3.335555], [51.12602, 3.335449], [51.126059, 3.33534], [51.126097, 3.335236], [51.126137, 3.335123], [51.126178, 3.335008], [51.126221, 3.334889], [51.126266, 3.334762], [51.126301, 3.334666], [51.126365, 3.334486], [51.126428, 3.334312], [51.126491, 3.334135], [51.126551, 3.333971], [51.126612, 3.333801], [51.126668, 3.333644], [51.126725, 3.333484], [51.126785, 3.333318], [51.126826, 3.333203], [51.126867, 3.333088], [51.12691, 3.332969], [51.12694, 3.332884], [51.126983, 3.332765], [51.127004, 3.332706], [51.127045, 3.332594], [51.127103, 3.332431], [51.127161, 3.332269], [51.127221, 3.332101], [51.127286, 3.331922], [51.127338, 3.331776], [51.127388, 3.331637], [51.127438, 3.331498], [51.127485, 3.331366], [51.127529, 3.331243], [51.12758, 3.331102], [51.127627, 3.330969], [51.127673, 3.330843], [51.127716, 3.330723], [51.127781, 3.330542], [51.127847, 3.330358], [51.12788, 3.330266], [51.127921, 3.330152], [51.127957, 3.330052], [51.127999, 3.329935], [51.127984, 3.329867], [51.128022, 3.329862], [51.128065, 3.32975], [51.128132, 3.329564], [51.128191, 3.329401], [51.128236, 3.329275], [51.128302, 3.329091], [51.128331, 3.329009], [51.128392, 3.32884], [51.128415, 3.328776], [51.128419, 3.328765], [51.128431, 3.328731], [51.128468, 3.328629], [51.128483, 3.328586], [51.128488, 3.328573], [51.128496, 3.328549], [51.128554, 3.328388], [51.128595, 3.328273], [51.128634, 3.328166], [51.128667, 3.328075], [51.128733, 3.32789], [51.128799, 3.327705], [51.128833, 3.32761], [51.128899, 3.327427], [51.128966, 3.327241], [51.129032, 3.327058], [51.129068, 3.326955], [51.12913, 3.326782], [51.129189, 3.326619], [51.129231, 3.326502], [51.129287, 3.326345], [51.129326, 3.326238], [51.12936, 3.326143], [51.129404, 3.326019], [51.129442, 3.325912], [51.129508, 3.325729], [51.129544, 3.325629], [51.129579, 3.325529], [51.129616, 3.325429], [51.129649, 3.325335], [51.129683, 3.325242], [51.12972, 3.325136], [51.129752, 3.325048], [51.129815, 3.324872], [51.129879, 3.324694], [51.129931, 3.324548], [51.129985, 3.324399], [51.13004, 3.324246], [51.130104, 3.324068], [51.130161, 3.323909], [51.130205, 3.323786], [51.130252, 3.323654], [51.130296, 3.323531], [51.130342, 3.323404], [51.130389, 3.323273], [51.130432, 3.323153], [51.130457, 3.323084], [51.1305, 3.322962], [51.130547, 3.322833], [51.130585, 3.322728], [51.130639, 3.322574], [51.130704, 3.322393], [51.130752, 3.32226], [51.130805, 3.322113], [51.130849, 3.321991], [51.130889, 3.321879], [51.13093, 3.321764], [51.130971, 3.32165], [51.131017, 3.321522], [51.131065, 3.321388], [51.131106, 3.321272], [51.131137, 3.321186], [51.131178, 3.321072], [51.131211, 3.320981], [51.131254, 3.32086], [51.131286, 3.320772], [51.131351, 3.32059], [51.131412, 3.32042], [51.131465, 3.320272], [51.13152, 3.32012], [51.131559, 3.32001], [51.131625, 3.319827], [51.131652, 3.319751], [51.131695, 3.319631], [51.131758, 3.319455], [51.131824, 3.31927], [51.131867, 3.319151], [51.131903, 3.31905], [51.131967, 3.318872], [51.132022, 3.318719], [51.13208, 3.318557], [51.132129, 3.318421], [51.132176, 3.318289], [51.132227, 3.318147], [51.132268, 3.318035], [51.132344, 3.317822], [51.132455, 3.317513], [51.132532, 3.317299], [51.13256, 3.317221], [51.132615, 3.317068], [51.132692, 3.316852], [51.132742, 3.316712], [51.132851, 3.316408], [51.132914, 3.316234], [51.133067, 3.315806], [51.133183, 3.315483], [51.133264, 3.315259], [51.133392, 3.314901], [51.13349, 3.314629], [51.133651, 3.314179], [51.133734, 3.313949], [51.133824, 3.313696], [51.133944, 3.313362], [51.134085, 3.312969], [51.134233, 3.312556], [51.134404, 3.312081], [51.134479, 3.311871], [51.134537, 3.311711], [51.134591, 3.31156], [51.134611, 3.311505], [51.134648, 3.3114], [51.134746, 3.311129], [51.134885, 3.310741], [51.13505, 3.310278], [51.135179, 3.309921], [51.135244, 3.309739], [51.135316, 3.309536], [51.135497, 3.309034], [51.135713, 3.308429], [51.135839, 3.308077], [51.135973, 3.307704], [51.136044, 3.307508], [51.136075, 3.307421], [51.136265, 3.306889], [51.136375, 3.306583], [51.136545, 3.306109], [51.136622, 3.305894], [51.136688, 3.30571], [51.1368, 3.305398], [51.136898, 3.305125], [51.137061, 3.304669], [51.137176, 3.304349], [51.137322, 3.303942], [51.137412, 3.303692], [51.137481, 3.3035], [51.137595, 3.303178], [51.137745, 3.302759], [51.137865, 3.302427], [51.138025, 3.301979], [51.138118, 3.30172], [51.138227, 3.301415], [51.13832, 3.301156], [51.138471, 3.300737], [51.138534, 3.30056], [51.138634, 3.30028], [51.138747, 3.299964], [51.13879, 3.299844], [51.138825, 3.299748], [51.138837, 3.299714], [51.138956, 3.299383], [51.139031, 3.299172], [51.139086, 3.299019], [51.139227, 3.298625], [51.139384, 3.298188], [51.139559, 3.2977], [51.139706, 3.297289], [51.139761, 3.297133], [51.139784, 3.29707], [51.139899, 3.29675], [51.140059, 3.296302], [51.1402, 3.295909], [51.140337, 3.295527], [51.140486, 3.295111], [51.140594, 3.294811], [51.140636, 3.294693], [51.140771, 3.294316], [51.140901, 3.293951], [51.141025, 3.293606], [51.141114, 3.293357], [51.141239, 3.29301], [51.141332, 3.292748], [51.14141, 3.292531], [51.141449, 3.292423], [51.14145, 3.292418], [51.141486, 3.29232], [51.14151, 3.292253], [51.141632, 3.291912], [51.141747, 3.291593], [51.141842, 3.291328], [51.14192, 3.29111], [51.142022, 3.290823], [51.142121, 3.290549], [51.142231, 3.290241], [51.142343, 3.28993], [51.142432, 3.289679], [51.142523, 3.289428], [51.142623, 3.289149], [51.142728, 3.288855], [51.142825, 3.288583], [51.142938, 3.288268], [51.143009, 3.288072], [51.143111, 3.287787], [51.143185, 3.28758], [51.143265, 3.287357], [51.143345, 3.287133], [51.143404, 3.286967], [51.143428, 3.286901], [51.143496, 3.28671], [51.143577, 3.286485], [51.143661, 3.286251], [51.143752, 3.285996], [51.143785, 3.285905], [51.143845, 3.285738], [51.143887, 3.285618], [51.143938, 3.285479], [51.143982, 3.285353], [51.144067, 3.285117], [51.144102, 3.28502], [51.14414, 3.284912], [51.144182, 3.284796], [51.14423, 3.284661], [51.144281, 3.284521], [51.144324, 3.284399], [51.144366, 3.284283], [51.144409, 3.284161], [51.144475, 3.283979], [51.144527, 3.283832], [51.144583, 3.283677], [51.144646, 3.283502], [51.144698, 3.283356], [51.144763, 3.283174], [51.144821, 3.283012], [51.144881, 3.282846], [51.144955, 3.282641], [51.145024, 3.282446], [51.145043, 3.282395], [51.145107, 3.282216], [51.145168, 3.282043], [51.145225, 3.281885], [51.14526, 3.281789], [51.145302, 3.281671], [51.145348, 3.281541], [51.145398, 3.281401], [51.14545, 3.281256], [51.14549, 3.281145], [51.145537, 3.281014], [51.145586, 3.280878], [51.145644, 3.280715], [51.145689, 3.28059], [51.145739, 3.280451], [51.145788, 3.280313], [51.145838, 3.280172], [51.145881, 3.280052], [51.145931, 3.279914], [51.145963, 3.279824], [51.146001, 3.279717], [51.146071, 3.279524], [51.146128, 3.279365], [51.146176, 3.279231], [51.146217, 3.279117], [51.146258, 3.279002], [51.146301, 3.278881], [51.147632, 3.275164], [51.148338, 3.273193], [51.148372, 3.272988]],\n",
       "                {&quot;bubblingMouseEvents&quot;: true, &quot;color&quot;: &quot;red&quot;, &quot;dashArray&quot;: null, &quot;dashOffset&quot;: null, &quot;fill&quot;: false, &quot;fillColor&quot;: &quot;red&quot;, &quot;fillOpacity&quot;: 0.2, &quot;fillRule&quot;: &quot;evenodd&quot;, &quot;lineCap&quot;: &quot;round&quot;, &quot;lineJoin&quot;: &quot;round&quot;, &quot;noClip&quot;: false, &quot;opacity&quot;: 1.0, &quot;smoothFactor&quot;: 1.0, &quot;stroke&quot;: true, &quot;weight&quot;: 3}\n",
       "            ).addTo(map_c9180294a5ff6fb278539e1d0b2b7f97);\n",
       "        \n",
       "    \n",
       "            var marker_a47c7df668d7bf052de114d814637bb6 = L.marker(\n",
       "                [51.1002386, 3.3885940000000003],\n",
       "                {}\n",
       "            ).addTo(map_c9180294a5ff6fb278539e1d0b2b7f97);\n",
       "        \n",
       "    \n",
       "        var popup_0ea44fca2a534259bfc556b3009bb7b3 = L.popup({&quot;maxWidth&quot;: &quot;100%&quot;});\n",
       "\n",
       "        \n",
       "            \n",
       "                var html_024df706f28802ab48e97b13e1c7d762 = $(`&lt;div id=&quot;html_024df706f28802ab48e97b13e1c7d762&quot; style=&quot;width: 100.0%; height: 100.0%;&quot;&gt;GNSS output&lt;/div&gt;`)[0];\n",
       "                popup_0ea44fca2a534259bfc556b3009bb7b3.setContent(html_024df706f28802ab48e97b13e1c7d762);\n",
       "            \n",
       "        \n",
       "\n",
       "        marker_a47c7df668d7bf052de114d814637bb6.bindPopup(popup_0ea44fca2a534259bfc556b3009bb7b3)\n",
       "        ;\n",
       "\n",
       "        \n",
       "    \n",
       "    \n",
       "            tile_layer_25690a3c0067c53024f59f811af8e0fe.addTo(map_c9180294a5ff6fb278539e1d0b2b7f97);\n",
       "        \n",
       "    \n",
       "            var marker_47620fa859ac4b9de7052f1fab56058e = L.marker(\n",
       "                [51.105379, 3.392912],\n",
       "                {}\n",
       "            ).addTo(map_c9180294a5ff6fb278539e1d0b2b7f97);\n",
       "        \n",
       "    \n",
       "            var icon_a7b340c17bec44a770ef891df93ba395 = L.AwesomeMarkers.icon(\n",
       "                {&quot;extraClasses&quot;: &quot;fa-rotate-0&quot;, &quot;icon&quot;: &quot;info-sign&quot;, &quot;iconColor&quot;: &quot;white&quot;, &quot;markerColor&quot;: &quot;green&quot;, &quot;prefix&quot;: &quot;glyphicon&quot;}\n",
       "            );\n",
       "            marker_47620fa859ac4b9de7052f1fab56058e.setIcon(icon_a7b340c17bec44a770ef891df93ba395);\n",
       "        \n",
       "    \n",
       "        var popup_7a7b8c480088490a78133e2cfec0754b = L.popup({&quot;maxWidth&quot;: &quot;100%&quot;});\n",
       "\n",
       "        \n",
       "            \n",
       "                var html_d4c0fa7ba2506b2cba67c1cb4fec33a7 = $(`&lt;div id=&quot;html_d4c0fa7ba2506b2cba67c1cb4fec33a7&quot; style=&quot;width: 100.0%; height: 100.0%;&quot;&gt;Closest Point (I)&lt;/div&gt;`)[0];\n",
       "                popup_7a7b8c480088490a78133e2cfec0754b.setContent(html_d4c0fa7ba2506b2cba67c1cb4fec33a7);\n",
       "            \n",
       "        \n",
       "\n",
       "        marker_47620fa859ac4b9de7052f1fab56058e.bindPopup(popup_7a7b8c480088490a78133e2cfec0754b)\n",
       "        ;\n",
       "\n",
       "        \n",
       "    \n",
       "&lt;/script&gt;\n",
       "&lt;/html&gt;\" style=\"position:absolute;width:100%;height:100%;left:0;top:0;border:none !important;\" allowfullscreen webkitallowfullscreen mozallowfullscreen></iframe></div></div>"
      ],
      "text/plain": [
       "<folium.folium.Map at 0x78b51df59b70>"
      ]
     },
     "execution_count": 43,
     "metadata": {},
     "output_type": "execute_result"
    }
   ],
   "source": [
    "def haversine(coord1, coord2):\n",
    "    # Convierte las coordenadas de grados a radianes\n",
    "    lat1, lon1 = np.radians(coord1)\n",
    "    lat2, lon2 = np.radians(coord2[:, 0]), np.radians(coord2[:, 1])\n",
    "    \n",
    "    # Haversine formula\n",
    "    dlat = lat2 - lat1\n",
    "    dlon = lon2 - lon1\n",
    "    a = np.sin(dlat / 2) ** 2 + np.cos(lat1) * np.cos(lat2) * np.sin(dlon / 2) ** 2\n",
    "    c = 2 * np.arcsin(np.sqrt(a))\n",
    "    \n",
    "    # Radio de la Tierra en kilómetros: 6371\n",
    "    km = 6371 * c\n",
    "    return km\n",
    "\n",
    "distances = haversine(new_point, line)\n",
    "\n",
    "closest_index = np.argmin(distances)\n",
    "closest_point = line[closest_index,:]\n",
    "plt.plot(distances,color=\"black\")\n",
    "plt.scatter(closest_index,np.min(distances),color='green')\n",
    "plt.grid(True)\n",
    "plt.show()\n",
    "\n",
    "folium.Marker(location=closest_point, popup=f\"Closest Point (I)\",icon=folium.Icon(color='green')).add_to(mapa)\n",
    "mapa"
   ]
  },
  {
   "cell_type": "code",
   "execution_count": null,
   "metadata": {},
   "outputs": [],
   "source": []
  }
 ],
 "metadata": {
  "kernelspec": {
   "display_name": "Python 3",
   "language": "python",
   "name": "python3"
  },
  "language_info": {
   "codemirror_mode": {
    "name": "ipython",
    "version": 3
   },
   "file_extension": ".py",
   "mimetype": "text/x-python",
   "name": "python",
   "nbconvert_exporter": "python",
   "pygments_lexer": "ipython3",
   "version": "3.10.12"
  }
 },
 "nbformat": 4,
 "nbformat_minor": 2
}
